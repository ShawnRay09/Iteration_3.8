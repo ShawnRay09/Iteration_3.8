{
 "cells": [
  {
   "cell_type": "raw",
   "metadata": {
    "vscode": {
     "languageId": "raw"
    }
   },
   "source": [
    "---\n",
    "toc: false\n",
    "comments: true\n",
    "layout: post\n",
    "title: Iterations In Python 3.8\n",
    "description: Learn about the giant world of iterations. \n",
    "permalink: /csp/big-ideas/p1/3-8-1\n",
    "categories: [CSP Big Ideas 3]\n",
    "author:  Arya, Shawn, Aarav\n",
    "menu: nav/csp_units/csp_unit3_p1_fundamentals.html\n",
    "---"
   ]
  },
  {
   "cell_type": "markdown",
   "metadata": {},
   "source": [
    "# APCSP Pseudo-Code: Iterating Over a Simple List of Values "
   ]
  },
  {
   "cell_type": "markdown",
   "metadata": {
    "vscode": {
     "languageId": "raw"
    }
   },
   "source": [
    "For Loops:\n",
    "- Used to iterate over a sequence\n",
    "- repeat a code a certain number of times, \n",
    "- \"for\" goes through each item"
   ]
  },
  {
   "cell_type": "code",
   "execution_count": null,
   "metadata": {},
   "outputs": [],
   "source": [
    "# Example 1: Simple for loop in Python\n",
    "groceries = [\"milk\", \"bread\", \"eggs\", \"juice\", \"yoghurt\"]\n",
    "for grocery in groceries:\n",
    "    print(grocery)"
   ]
  },
  {
   "cell_type": "code",
   "execution_count": null,
   "metadata": {
    "vscode": {
     "languageId": "javascript"
    }
   },
   "outputs": [],
   "source": [
    "%%js\n",
    "console.log(\"hello\")"
   ]
  },
  {
   "cell_type": "markdown",
   "metadata": {
    "vscode": {
     "languageId": "raw"
    }
   },
   "source": [
    "While Loops:\n",
    "- keeps running as a given condition is True\n",
    "- this loop starts with count = 0\n",
    "- as long as condition is met, of count being less than 5, it will keep running\n",
    "    Inside Loop:\n",
    "    - prints current value of count\n",
    "    - count gets increased by one ever iteration"
   ]
  },
  {
   "cell_type": "code",
   "execution_count": null,
   "metadata": {},
   "outputs": [],
   "source": [
    "# Example While Loop\n",
    "count = 0\n",
    "while count < 5:\n",
    "    print(count)\n",
    "    count += 1"
   ]
  },
  {
   "cell_type": "markdown",
   "metadata": {
    "vscode": {
     "languageId": "raw"
    }
   },
   "source": [
    "Do While Loops:\n",
    "- executes code block at least one before checking condition\n",
    "- guarentees that loops is run at least one time, no matter the condition"
   ]
  },
  {
   "cell_type": "markdown",
   "metadata": {
    "vscode": {
     "languageId": "raw"
    }
   },
   "source": [
    "Infinite Loops:\n",
    "- a loop that never stops running because condition never becomes False\n",
    "- this is the same code as previous while loops, but you never update count so it always remains at 0\n",
    "- because it is at 0, the while loop runs forever"
   ]
  },
  {
   "cell_type": "code",
   "execution_count": null,
   "metadata": {},
   "outputs": [],
   "source": [
    "count = 0\n",
    "while count < 5:\n",
    "    print(count)\n",
    "    # Forgetting to update `count`"
   ]
  },
  {
   "cell_type": "markdown",
   "metadata": {},
   "source": [
    "# Looping with Dictionaries\n",
    "- Iterate through the elements of lists and dictionaries"
   ]
  },
  {
   "cell_type": "code",
   "execution_count": null,
   "metadata": {},
   "outputs": [],
   "source": [
    "person = {\"name\": \"Arya\", \"age\": 15, \"city\": \"San Diego\"}\n",
    "for key, value in person.items():\n",
    "    print(key, \":\", value)"
   ]
  },
  {
   "cell_type": "markdown",
   "metadata": {},
   "source": [
    "How This Works:\n",
    "Dictionary Definition: The dictionary person has three key-value pairs:\n",
    "\n",
    "\"name\": \"Arya\"\n",
    "\"age\": 15\n",
    "\"city\": \"San Diego\"\n",
    "FOR EACH key, value IN person::\n",
    "\n",
    "FOR EACH means the loop will go through each element in the dictionary.\n",
    "In Python, dictionaries store key-value pairs. For example, \"name\" is a key, and \"Arya\" is its corresponding value.\n",
    "The .items() method is used to get both the key and the value in each iteration.\n",
    "Loop Execution:\n",
    "\n",
    "First Iteration:\n",
    "key = \"name\"\n",
    "value = \"Arya\"\n",
    "The program displays: name : Arya\n",
    "Second Iteration:\n",
    "key = \"age\"\n",
    "value = 15\n",
    "The program displays: age : 15\n",
    "Third Iteration:\n",
    "key = \"city\"\n",
    "value = \"San Diego\"\n",
    "The program displays: city : San Diego\n",
    "DISPLAY key, \":\", value:\n",
    "\n",
    "For each pair, it prints the key, followed by a colon :, and then the value.\n",
    "In Python, this is done using print(key, \":\", value)."
   ]
  },
  {
   "cell_type": "markdown",
   "metadata": {},
   "source": [
    "# Looping with Index Variable \n",
    "- using range()"
   ]
  },
  {
   "cell_type": "code",
   "execution_count": null,
   "metadata": {},
   "outputs": [],
   "source": [
    "fruits = ['apple', 'banana', 'cherry']\n",
    "for i in range(len(fruits)):\n",
    "    print(f\"Index {i}: {fruits[i]}\")\n"
   ]
  },
  {
   "cell_type": "markdown",
   "metadata": {},
   "source": [
    "How it works:\n",
    "\n",
    "- range(len(fruits)) generates numbers from 0 to 2 (since len(fruits) is 3).\n",
    "- The loop runs 3 times (one for each index), and in each iteration:\n",
    "    - i takes the value of the index.\n",
    "    - fruits[i] gives the element at that index."
   ]
  },
  {
   "cell_type": "markdown",
   "metadata": {},
   "source": [
    "#Nested If Statements\n",
    "- when an if statement is placed inside another if, elif, or else statement"
   ]
  },
  {
   "cell_type": "code",
   "execution_count": null,
   "metadata": {},
   "outputs": [],
   "source": [
    "age = 20\n",
    "has_ticket = True\n",
    "\n",
    "if age >= 18:\n",
    "    print(\"You are old enough to watch the movie.\")\n",
    "    if has_ticket:\n",
    "        print(\"You can enter the theater.\")\n",
    "    else:\n",
    "        print(\"You need a ticket to enter.\")\n",
    "else:\n",
    "    print(\"You are too young to watch this movie.\")\n"
   ]
  },
  {
   "cell_type": "markdown",
   "metadata": {},
   "source": [
    "# Popcorn Hack 1\n",
    "Using this code and nested if statements, check if the user is a student by defining a variable and putting a user input. If the condition is true, print a statement saying they get a student discount."
   ]
  },
  {
   "cell_type": "markdown",
   "metadata": {},
   "source": [
    "Explanation:\n",
    "- if checks if age variable is over 18, prints false if not\n",
    "- if if statement is checked then moves on to next if statement and checks has_ticket\n",
    "- if has_ticket true then prints statment, if false prints another statement"
   ]
  },
  {
   "cell_type": "markdown",
   "metadata": {},
   "source": [
    "# APCSP Pseudo-Code: Nested Loops for Group Names"
   ]
  },
  {
   "cell_type": "code",
   "execution_count": null,
   "metadata": {},
   "outputs": [],
   "source": [
    "groups = [['arya', 'shawn'], ['aarav']]\n",
    "\n",
    "for pair in groups:\n",
    "    for person in pair:\n",
    "        print(person + ' is cool')\n",
    "    print(pair[0] + ' and ' + pair[1] + ' love to code code code')"
   ]
  },
  {
   "cell_type": "markdown",
   "metadata": {},
   "source": [
    "# Try/Except"
   ]
  },
  {
   "cell_type": "code",
   "execution_count": null,
   "metadata": {},
   "outputs": [],
   "source": [
    "try:\n",
    "    num = int(input(\"Enter a number: \"))  # Code that might raise an exception\n",
    "    result = 10 / num  # Could raise ZeroDivisionError if num is 0\n",
    "    print(\"Result:\", result)\n",
    "except ValueError:\n",
    "    print(\"That's not a valid number!\")\n",
    "except ZeroDivisionError:\n",
    "    print(\"You can't divide by zero!\")\n",
    "else:\n",
    "    print(\"Operation was successful!\")"
   ]
  },
  {
   "cell_type": "markdown",
   "metadata": {},
   "source": [
    "Explanation: \n",
    "- The try block tells user to enter a number, then tries to divide the number by 10\n",
    "- The Value error code runs when the number is not a valid integer\n",
    "- if the input is 0, then runs zero division error\n",
    "- the else block runs if try was succesful\n",
    "Why Use Try/Except?\n",
    "-  Imagine you're asking a friend to do math. If they don't understand and say something wrong, you want to guide them back instead of just getting frustrated. That's what try/except does in programming—it helps manage mistakes without crashing."
   ]
  },
  {
   "cell_type": "markdown",
   "metadata": {},
   "source": [
    "# Popcorn Hack 2\n",
    "- Using this code, check if the number is even or odd, after satisfying the successfull operation. "
   ]
  },
  {
   "cell_type": "markdown",
   "metadata": {},
   "source": [
    "# Homework Hack: Looping Practice\n",
    "Create a program that asks the user for a number and keeps asking until they enter a positive number."
   ]
  }
 ],
 "metadata": {
  "kernelspec": {
   "display_name": "Python 3 (ipykernel)",
   "language": "python",
   "name": "python3"
  },
  "language_info": {
   "codemirror_mode": {
    "name": "ipython",
    "version": 3
   },
   "file_extension": ".py",
   "mimetype": "text/x-python",
   "name": "python",
   "nbconvert_exporter": "python",
   "pygments_lexer": "ipython3",
   "version": "3.12.3"
  }
 },
 "nbformat": 4,
 "nbformat_minor": 4
}

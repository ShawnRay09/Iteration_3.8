{
 "cells": [
  {
   "cell_type": "raw",
   "metadata": {
    "vscode": {
     "languageId": "raw"
    }
   },
   "source": [
    "---\n",
    "toc: false\n",
    "comments: true\n",
    "layout: post\n",
    "title: 3.2 Data Abstraction - Hacks and Homework\n",
    "description: Here, you will learn how to represent a list or string using a variable, generalize data sources through variables, use abstraction to manage complexity in a program, and explain how abstraction manages complexity.\n",
    "permalink: /csp/big-idea/p3/3-2/\n",
    "categories: [CSP Big Ideas]\n",
    "author:  Gabriela, Jowan, Michelle\n",
    "menu: nav/csp_units/csp_unit3_p3_fundamentals.html\n",
    "---"
   ]
  },
  {
   "cell_type": "markdown",
   "metadata": {},
   "source": [
    "<p style=\"font-family: 'Comic Sans MS', cursive; font-size: 18px; color: #FF69B4; background-color: #E0FFFF; padding: 10px; border-radius: 10px; box-shadow: 2px 2px 5px rgba(0, 0, 0, 0.1);\">\n",
    "    Data types are classifications that specify what kind of data a variable can hold. In programming, knowing and using the right data types is critical for processing data accurately. In this lesson, we are going over strings, lists, integers, floating-point numbers, tuples, dictionaries, booleans, and sets. These different data types allow computers to represent real-world information (e.g., using strings to store text, integers for counting, booleans for binary conditions).\n",
    "</p>"
   ]
  },
  {
   "cell_type": "markdown",
   "metadata": {},
   "source": [
    "<h1 style=\"font-family: 'Comic Sans MS', cursive; font-size: 30px; color: #FF69B4; background-color: #FFF0F5; padding: 15px; border-radius: 10px; text-align: center; box-shadow: 2px 2px 5px rgba(0, 0, 0, 0.1);\">\n",
    "    Grading for Hacks and Homework\n",
    "</h1>\n",
    "<ul style=\"font-family: 'Comic Sans MS', cursive; font-size: 18px; color: #FF69B4; background-color: #E0FFFF; padding: 15px; border-radius: 10px; box-shadow: 2px 2px 5px rgba(0, 0, 0, 0.1); list-style-type: disc;\">\n",
    "    <li style=\"padding-bottom: 10px;\">all requirements must be completed</li>\n",
    "    <li style=\"padding-bottom: 10px;\">be creative! go above and beyond when possible</li>\n",
    "        <li style=\"padding-bottom: 10px;\">show understanding by explaining your work</li>\n",
    "</ul>\n",
    "\n"
   ]
  }
 ],
 "metadata": {
  "kernelspec": {
   "display_name": "Python 3",
   "language": "python",
   "name": "python3"
  },
  "language_info": {
   "codemirror_mode": {
    "name": "ipython",
    "version": 3
   },
   "file_extension": ".py",
   "mimetype": "text/x-python",
   "name": "python",
   "nbconvert_exporter": "python",
   "pygments_lexer": "ipython3",
   "version": "3.9.7"
  }
 },
 "nbformat": 4,
 "nbformat_minor": 2
}
